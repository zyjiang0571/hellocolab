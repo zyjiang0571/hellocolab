{
  "nbformat": 4,
  "nbformat_minor": 0,
  "metadata": {
    "colab": {
      "name": "test.ipynb",
      "provenance": [],
      "collapsed_sections": [],
      "authorship_tag": "ABX9TyMlEp1rts0eIFx+kTFKuq50",
      "include_colab_link": true
    },
    "kernelspec": {
      "name": "python3",
      "display_name": "Python 3"
    },
    "accelerator": "GPU"
  },
  "cells": [
    {
      "cell_type": "markdown",
      "metadata": {
        "id": "view-in-github",
        "colab_type": "text"
      },
      "source": [
        "<a href=\"https://colab.research.google.com/github/zyjiang0571/hellocolab/blob/main/test.ipynb\" target=\"_parent\"><img src=\"https://colab.research.google.com/assets/colab-badge.svg\" alt=\"Open In Colab\"/></a>"
      ]
    },
    {
      "cell_type": "code",
      "metadata": {
        "colab": {
          "base_uri": "https://localhost:8080/",
          "height": 35
        },
        "id": "JGrF37bHFjwc",
        "outputId": "9473e2f8-b02f-4f65-e12f-1cb84f7ed898"
      },
      "source": [
        "import tensorflow as tf\r\n",
        "tf.test.gpu_device_name()\r\n"
      ],
      "execution_count": null,
      "outputs": [
        {
          "output_type": "execute_result",
          "data": {
            "application/vnd.google.colaboratory.intrinsic+json": {
              "type": "string"
            },
            "text/plain": [
              "'/device:GPU:0'"
            ]
          },
          "metadata": {
            "tags": []
          },
          "execution_count": 1
        }
      ]
    },
    {
      "cell_type": "code",
      "metadata": {
        "colab": {
          "base_uri": "https://localhost:8080/"
        },
        "id": "zPWGI17ZKHQR",
        "outputId": "9e05c7f5-8dc5-45d9-ab4c-6343a9441f3a"
      },
      "source": [
        "import torch\r\n",
        "x = torch.empty(5, 3)\r\n",
        "print(x)"
      ],
      "execution_count": null,
      "outputs": [
        {
          "output_type": "stream",
          "text": [
            "tensor([[1.3378e+35, 3.0920e-41, 3.3631e-44],\n",
            "        [0.0000e+00,        nan, 3.0920e-41],\n",
            "        [1.1578e+27, 1.1362e+30, 7.1547e+22],\n",
            "        [4.5828e+30, 1.2121e+04, 7.1846e+22],\n",
            "        [9.2198e-39, 7.0374e+22, 3.9392e+34]])\n"
          ],
          "name": "stdout"
        }
      ]
    },
    {
      "cell_type": "code",
      "metadata": {
        "colab": {
          "base_uri": "https://localhost:8080/"
        },
        "id": "AGdl8uT0LCL6",
        "outputId": "5955c38e-d8c9-45d3-85bb-e7eeb80bdb00"
      },
      "source": [
        "!/opt/bin/nvidia-smi"
      ],
      "execution_count": null,
      "outputs": [
        {
          "output_type": "stream",
          "text": [
            "Wed Mar 10 08:06:29 2021       \n",
            "+-----------------------------------------------------------------------------+\n",
            "| NVIDIA-SMI 460.32.03    Driver Version: 460.32.03    CUDA Version: 11.2     |\n",
            "|-------------------------------+----------------------+----------------------+\n",
            "| GPU  Name        Persistence-M| Bus-Id        Disp.A | Volatile Uncorr. ECC |\n",
            "| Fan  Temp  Perf  Pwr:Usage/Cap|         Memory-Usage | GPU-Util  Compute M. |\n",
            "|                               |                      |               MIG M. |\n",
            "|===============================+======================+======================|\n",
            "|   0  Tesla K80           Off  | 00000000:00:04.0 Off |                    0 |\n",
            "| N/A   47C    P0    59W / 149W |    124MiB / 11441MiB |      0%      Default |\n",
            "|                               |                      |                  N/A |\n",
            "+-------------------------------+----------------------+----------------------+\n",
            "                                                                               \n",
            "+-----------------------------------------------------------------------------+\n",
            "| Processes:                                                                  |\n",
            "|  GPU   GI   CI        PID   Type   Process name                  GPU Memory |\n",
            "|        ID   ID                                                   Usage      |\n",
            "|=============================================================================|\n",
            "+-----------------------------------------------------------------------------+\n"
          ],
          "name": "stdout"
        }
      ]
    },
    {
      "cell_type": "code",
      "metadata": {
        "colab": {
          "base_uri": "https://localhost:8080/",
          "height": 281
        },
        "id": "qJq-IMrmLyXh",
        "outputId": "e84fc2d2-bf74-4770-d334-809c75db4235"
      },
      "source": [
        "import numpy as np\r\n",
        "from matplotlib import pyplot as plt\r\n",
        "\r\n",
        "ys = 200 + np.random.randn(100)\r\n",
        "x = [x for x in range(len(ys))]\r\n",
        "\r\n",
        "plt.plot(x, ys, '-')\r\n",
        "plt.fill_between(x, ys, 195, where=(ys > 195), facecolor='g', alpha=0.6)\r\n",
        "\r\n",
        "plt.title(\"Sample Visualization\")\r\n",
        "plt.show()"
      ],
      "execution_count": null,
      "outputs": [
        {
          "output_type": "display_data",
          "data": {
            "image/png": "[encoded data removed]",
            "text/plain": [
              "<Figure size 432x288 with 1 Axes>"
            ]
          },
          "metadata": {
            "tags": [],
            "needs_background": "light"
          }
        }
      ]
    },
    {
      "cell_type": "markdown",
      "metadata": {
        "id": "aoB_KyfrPNKy"
      },
      "source": [
        "# Section 1\r\n",
        "# Section 2\r\n",
        "## Sub-section under Section 2\r\n",
        "### Sub-section under the sub-section under Section 2\r\n",
        "# Section 3\r\n",
        "\r\n",
        "> one level of indention\r\n",
        ">> two level of indention\r\n",
        "\r\n",
        "**bold text**\r\n",
        "\r\n",
        "*italicized text* or _italicized text_\r\n",
        "\r\n",
        "`Monospace`\r\n",
        "\r\n",
        "~~strikethrough~~\r\n",
        "\r\n",
        "[A link](https://www.google.com)\r\n",
        "\r\n",
        "![An image](https://www.google.com/images/rss.png)\t\r\n",
        "\r\n",
        "# code block\r\n",
        "```python\r\n",
        "print(\"a\")\r\n",
        "```\r\n",
        "\r\n",
        "# lists:\r\n",
        "1. One\r\n",
        "1. Two\r\n",
        "1. Three\r\n",
        "\r\n",
        "* One\r\n",
        "* Two\r\n",
        "* Three\r\n",
        "\r\n",
        "## equations\r\n",
        "\r\n",
        "$y=x^2$\r\n",
        " \r\n",
        "$e^{i\\pi} + 1 = 0$\r\n",
        " \r\n",
        "$e^x=\\sum_{i=0}^\\infty \\frac{1}{i!}x^i$\r\n",
        " \r\n",
        "$\\frac{n!}{k!(n-k)!} = {n \\choose k}$\r\n",
        " \r\n",
        "$A_{m,n} =\r\n",
        " \\begin{pmatrix}\r\n",
        "  a_{1,1} & a_{1,2} & \\cdots & a_{1,n} \\\\\r\n",
        "  a_{2,1} & a_{2,2} & \\cdots & a_{2,n} \\\\\r\n",
        "  \\vdots  & \\vdots  & \\ddots & \\vdots  \\\\\r\n",
        "  a_{m,1} & a_{m,2} & \\cdots & a_{m,n}\r\n",
        " \\end{pmatrix}$\r\n",
        "\r\n",
        " First column name  | Second column name \r\n",
        "-------------------|------------------\r\n",
        "Row 1, Col 1       | Row 1, Col 2 \r\n",
        "Row 2, Col 1       | Row 2, Col 2 \r\n"
      ]
    }
  ]
}